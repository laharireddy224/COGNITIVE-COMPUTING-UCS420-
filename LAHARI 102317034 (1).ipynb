{
 "cells": [
  {
   "cell_type": "code",
   "execution_count": 2,
   "id": "b539fbdb-c56e-4419-9d9b-bbc6d6c5e20c",
   "metadata": {},
   "outputs": [
    {
     "name": "stdout",
     "output_type": "stream",
     "text": [
      "lahari\n",
      "lahari\n",
      "lahari\n"
     ]
    }
   ],
   "source": [
    "print(\"lahari\")\n",
    "print(\"lahari\")\n",
    "print(\"lahari\")"
   ]
  },
  {
   "cell_type": "code",
   "execution_count": 4,
   "id": "eb0e61ca-7ce2-4e92-afd0-d703bb81ae30",
   "metadata": {},
   "outputs": [
    {
     "name": "stdout",
     "output_type": "stream",
     "text": [
      "10 + 15 + 90 --> 115\n"
     ]
    }
   ],
   "source": [
    "a=10\n",
    "b=15\n",
    "c=90\n",
    "d=a+b+c\n",
    "print(a,\"+\",b,\"+\",c,\"-->\",d)\n",
    "\n"
   ]
  },
  {
   "cell_type": "code",
   "execution_count": 6,
   "id": "6a04a654-e5d9-4ab0-8b0a-205f1a621887",
   "metadata": {},
   "outputs": [
    {
     "name": "stdout",
     "output_type": "stream",
     "text": [
      "laharireddy\n"
     ]
    }
   ],
   "source": [
    "a=\"lah\"\n",
    "b=\"ari\"\n",
    "c=\"reddy\"\n",
    "d=a+b+c\n",
    "print(d)"
   ]
  },
  {
   "cell_type": "code",
   "execution_count": 12,
   "id": "13814668-5d71-433d-8fc9-b4b5631174d2",
   "metadata": {},
   "outputs": [
    {
     "name": "stdout",
     "output_type": "stream",
     "text": [
      "7 * 1 = 7\n",
      "7 * 2 = 14\n",
      "7 * 3 = 21\n",
      "7 * 4 = 28\n",
      "7 * 5 = 35\n",
      "7 * 6 = 42\n",
      "7 * 7 = 49\n",
      "7 * 8 = 56\n",
      "7 * 9 = 63\n",
      "7 * 10 = 70\n"
     ]
    }
   ],
   "source": [
    "for i in range(1,11):print(7,\"*\",i,\"=\",i*7)"
   ]
  },
  {
   "cell_type": "code",
   "execution_count": 14,
   "id": "74e425a6-a939-4367-9564-31a4eb2f6e30",
   "metadata": {},
   "outputs": [
    {
     "name": "stdout",
     "output_type": "stream",
     "text": [
      "9 * 1 = 9\n",
      "9 * 2 = 18\n",
      "9 * 3 = 27\n",
      "9 * 4 = 36\n",
      "9 * 5 = 45\n",
      "9 * 6 = 54\n",
      "9 * 7 = 63\n",
      "9 * 8 = 72\n",
      "9 * 9 = 81\n",
      "9 * 10 = 90\n"
     ]
    }
   ],
   "source": [
    "for i in range(1,11):print(9,\"*\",i,\"=\",i*9)"
   ]
  },
  {
   "cell_type": "code",
   "execution_count": 22,
   "id": "826e46d5-cc72-425b-be75-c0ed5439f73f",
   "metadata": {},
   "outputs": [
    {
     "name": "stdin",
     "output_type": "stream",
     "text": [
      "enter ur number 5\n"
     ]
    },
    {
     "name": "stdout",
     "output_type": "stream",
     "text": [
      "5 * 1 = 5\n",
      "5 * 2 = 10\n",
      "5 * 3 = 15\n",
      "5 * 4 = 20\n",
      "5 * 5 = 25\n",
      "5 * 6 = 30\n",
      "5 * 7 = 35\n",
      "5 * 8 = 40\n",
      "5 * 9 = 45\n",
      "5 * 10 = 50\n"
     ]
    }
   ],
   "source": [
    "n=int(input(\"enter ur number\"))\n",
    "for i in range(1,11):print(n,\"*\",i,\"=\",i*n)"
   ]
  },
  {
   "cell_type": "code",
   "execution_count": 34,
   "id": "c5b2745e-9b1c-4d0c-aa76-b22f586c2ddf",
   "metadata": {},
   "outputs": [
    {
     "name": "stdin",
     "output_type": "stream",
     "text": [
      "Enter a number to calculate the sum from 1 to n:  6\n"
     ]
    },
    {
     "name": "stdout",
     "output_type": "stream",
     "text": [
      "The sum of all numbers from 1 to 6 is: 21\n"
     ]
    }
   ],
   "source": [
    "n = int(input(\"Enter a number to calculate the sum from 1 to n: \"))\n",
    "sum = 0\n",
    "for i in range(1, n + 1):\n",
    "    sum += i\n",
    "print(f\"The sum of all numbers from 1 to {n} is: {sum}\")\n"
   ]
  },
  {
   "cell_type": "code",
   "execution_count": 36,
   "id": "4f0309b8-c5b1-4fd4-8fc7-f3a9b57d94c1",
   "metadata": {},
   "outputs": [
    {
     "name": "stdin",
     "output_type": "stream",
     "text": [
      "Enter the first number:  5\n",
      "Enter the second number:  6\n",
      "Enter the third number:  8\n"
     ]
    },
    {
     "name": "stdout",
     "output_type": "stream",
     "text": [
      "maximum is--> 8.0\n"
     ]
    }
   ],
   "source": [
    "num1 = float(input(\"Enter the first number: \"))\n",
    "num2 = float(input(\"Enter the second number: \"))\n",
    "num3 = float(input(\"Enter the third number: \"))\n",
    "maximum = max(num1, num2, num3)\n",
    "print(\"maximum is-->\", maximum)\n"
   ]
  },
  {
   "cell_type": "code",
   "execution_count": 46,
   "id": "ff58fc89-ff57-4edd-9dcb-966461161062",
   "metadata": {
    "scrolled": true
   },
   "outputs": [
    {
     "name": "stdin",
     "output_type": "stream",
     "text": [
      "Enter a number  6\n"
     ]
    },
    {
     "name": "stdout",
     "output_type": "stream",
     "text": [
      "The sum of all numbers divisible by both 7 and 9 from 1 to n is: 0\n"
     ]
    }
   ],
   "source": [
    "n = int(input(\"Enter a number \"))\n",
    "sum = 0\n",
    "for i in range(1,n+1):\n",
    "    if i % 7 == 0 and i % 9 == 0: \n",
    "        sum+= i\n",
    "print(\"The sum of all numbers divisible by both 7 and 9 from 1 to n is:\",sum)\n"
   ]
  },
  {
   "cell_type": "code",
   "execution_count": 48,
   "id": "b4d6d50a-f6c7-4523-aaae-8775cd29882d",
   "metadata": {},
   "outputs": [
    {
     "name": "stdin",
     "output_type": "stream",
     "text": [
      "Enter a number (n) to calculate the sum of prime numbers from 1 to n:  6\n"
     ]
    },
    {
     "name": "stdout",
     "output_type": "stream",
     "text": [
      "The sum of all prime numbers from 1 to n is:  10\n"
     ]
    }
   ],
   "source": [
    "def is_prime(num):\n",
    "    if num<2:\n",
    "        return False\n",
    "    for i in range(2, int(num ** 0.5) + 1):\n",
    "        if num % i == 0:\n",
    "            return False\n",
    "    return True\n",
    "n = int(input(\"Enter a number (n) to calculate the sum of prime numbers from 1 to n: \"))\n",
    "sum = 0\n",
    "for i in range(1, n + 1):\n",
    "    if is_prime(i):  \n",
    "        sum += i\n",
    "print(\"The sum of all prime numbers from 1 to n is: \",sum)\n",
    "\n"
   ]
  },
  {
   "cell_type": "code",
   "execution_count": 78,
   "id": "58dbe5b6-35b9-4356-8fd4-cea9b0728a0c",
   "metadata": {},
   "outputs": [
    {
     "name": "stdin",
     "output_type": "stream",
     "text": [
      "Enter a positive integer:  7\n"
     ]
    },
    {
     "name": "stdout",
     "output_type": "stream",
     "text": [
      "The sum of all odd numbers from 1 to n is: 16\n"
     ]
    }
   ],
   "source": [
    "def sumofodds(n):\n",
    "    \"\"\"Calculate the sum of all odd numbers from 1 to n.\"\"\"\n",
    "    total = 0\n",
    "    for i in range(1, n + 1, 2): \n",
    "        total=total+i\n",
    "    return total\n",
    "try:\n",
    "    n = int(input(\"Enter a positive integer: \"))\n",
    "    if n <= 0:\n",
    "        print(\"Please enter a positive integer greater than 0.\")\n",
    "    else:\n",
    "        result = sumofodds(n)\n",
    "        print(\"The sum of all odd numbers from 1 to n is:\", result)\n",
    "except ValueError:\n",
    "    print(\"Invalid input! Please enter an integer.\")\n"
   ]
  },
  {
   "cell_type": "code",
   "execution_count": 104,
   "id": "afc7b538-5129-484f-a22a-d9f3f6c5aea0",
   "metadata": {},
   "outputs": [
    {
     "name": "stdin",
     "output_type": "stream",
     "text": [
      "Enter a positive integer:  8\n"
     ]
    },
    {
     "name": "stdout",
     "output_type": "stream",
     "text": [
      "The sum of all prime numbers from 1 to n is: 17\n"
     ]
    }
   ],
   "source": [
    "def is_prime(x):\n",
    "    \"\"\"Check if a number is a prime number.\"\"\"\n",
    "    if  <= 1:\n",
    "        return 0\n",
    "    for i in range(2, int(x**0.5) + 1):\n",
    "        if  % i == 0:\n",
    "            return 0\n",
    "    return 1\n",
    "\n",
    "def sumofprimes(n):\n",
    "    \"\"\"Calculate the sum of all prime numbers from 1 to n.\"\"\"\n",
    "    total = 0\n",
    "    for num in range(2, n + 1):  \n",
    "        if is_prime(num):\n",
    "            total += num\n",
    "    return total\n",
    "\n",
    "try:\n",
    "    n = int(input(\"Enter a positive integer: \"))\n",
    "    if n <= 0:\n",
    "        print(\"Please enter a positive integer greater than 0.\")\n",
    "    else:\n",
    "        result = sumofprimes(n)\n",
    "        print(\"The sum of all prime numbers from 1 to n is:\",result)\n",
    "except ValueError:\n",
    "    print(\"Invalid input! Please enter an integer.\")\n"
   ]
  },
  {
   "cell_type": "code",
   "execution_count": null,
   "id": "d0974fb2-7645-49cc-ad5e-50bdf6bada75",
   "metadata": {},
   "outputs": [],
   "source": []
  },
  {
   "cell_type": "code",
   "execution_count": null,
   "id": "679164e2-fd06-4d99-890d-ab4e6ed68c3a",
   "metadata": {},
   "outputs": [],
   "source": []
  }
 ],
 "metadata": {
  "kernelspec": {
   "display_name": "Python [conda env:base] *",
   "language": "python",
   "name": "conda-base-py"
  },
  "language_info": {
   "codemirror_mode": {
    "name": "ipython",
    "version": 3
   },
   "file_extension": ".py",
   "mimetype": "text/x-python",
   "name": "python",
   "nbconvert_exporter": "python",
   "pygments_lexer": "ipython3",
   "version": "3.12.7"
  }
 },
 "nbformat": 4,
 "nbformat_minor": 5
}
