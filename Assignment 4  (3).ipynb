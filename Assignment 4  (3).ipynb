{
  "metadata": {
    "kernelspec": {
      "name": "python",
      "display_name": "Python (Pyodide)",
      "language": "python"
    },
    "language_info": {
      "codemirror_mode": {
        "name": "python",
        "version": 3
      },
      "file_extension": ".py",
      "mimetype": "text/x-python",
      "name": "python",
      "nbconvert_exporter": "python",
      "pygments_lexer": "ipython3",
      "version": "3.8"
    }
  },
  "nbformat_minor": 5,
  "nbformat": 4,
  "cells": [
    {
      "id": "1fba6e8f-f0e5-4636-a47d-176f1d8fe2f5",
      "cell_type": "code",
      "source": "# 1(a)\nimport numpy as np\na=np.array([1,2,3,4])\nadd=a+2\nadd",
      "metadata": {
        "trusted": true
      },
      "outputs": [
        {
          "execution_count": 1,
          "output_type": "execute_result",
          "data": {
            "text/plain": "array([3, 4, 5, 6])"
          },
          "metadata": {}
        }
      ],
      "execution_count": 1
    },
    {
      "id": "9658d2ac-c8ce-4a30-b0ae-e49115f2e2ac",
      "cell_type": "code",
      "source": "#1(b)\nmultiply=a*3\nmultiply",
      "metadata": {
        "trusted": true
      },
      "outputs": [
        {
          "execution_count": 2,
          "output_type": "execute_result",
          "data": {
            "text/plain": "array([ 3,  6,  9, 12])"
          },
          "metadata": {}
        }
      ],
      "execution_count": 2
    },
    {
      "id": "3b7b4ad7-225a-4610-9148-6f85bad43f81",
      "cell_type": "code",
      "source": "#1(c)\ndivide=a/2\ndivide",
      "metadata": {
        "trusted": true
      },
      "outputs": [
        {
          "execution_count": 3,
          "output_type": "execute_result",
          "data": {
            "text/plain": "array([0.5, 1. , 1.5, 2. ])"
          },
          "metadata": {}
        }
      ],
      "execution_count": 3
    },
    {
      "id": "32050cb3-e939-4ee5-ad9e-88ba147d13c5",
      "cell_type": "code",
      "source": "#2(a)\narr=np.array([1,2,3,6,4,5])\nreverse=arr[::-1]\nreverse",
      "metadata": {
        "trusted": true
      },
      "outputs": [
        {
          "execution_count": 6,
          "output_type": "execute_result",
          "data": {
            "text/plain": "array([5, 4, 6, 3, 2, 1])"
          },
          "metadata": {}
        }
      ],
      "execution_count": 6
    },
    {
      "id": "06c6e416-ee0b-4f91-940d-d6566ac9a1ee",
      "cell_type": "code",
      "source": "#3(a)\nimport numpy as np\narr=np.array([[10,20,30],[40,50,60],[70,80,90]])\na=arr[0,1]\na\n",
      "metadata": {
        "trusted": true
      },
      "outputs": [
        {
          "execution_count": 2,
          "output_type": "execute_result",
          "data": {
            "text/plain": "np.int32(20)"
          },
          "metadata": {}
        }
      ],
      "execution_count": 2
    },
    {
      "id": "1198514d-9832-45c9-b03d-ed61ccb4c5f7",
      "cell_type": "code",
      "source": "b=arr[2,0]\nb",
      "metadata": {
        "trusted": true
      },
      "outputs": [
        {
          "execution_count": 3,
          "output_type": "execute_result",
          "data": {
            "text/plain": "np.int32(70)"
          },
          "metadata": {}
        }
      ],
      "execution_count": 3
    },
    {
      "id": "4819cee8-42c9-4ce3-b01d-9e285d4e80ca",
      "cell_type": "code",
      "source": "#4\nimport numpy as np\nHarsheen=np.linspace(10,100,25)\nprint(\"Harsheen:\",array)",
      "metadata": {
        "trusted": true
      },
      "outputs": [
        {
          "name": "stdout",
          "output_type": "stream",
          "text": "Harsheen: [ 10.    13.75  17.5   21.25  25.    28.75  32.5   36.25  40.    43.75\n  47.5   51.25  55.    58.75  62.5   66.25  70.    73.75  77.5   81.25\n  85.    88.75  92.5   96.25 100.  ]\n"
        }
      ],
      "execution_count": 13
    },
    {
      "id": "ae792372-1f0e-44c3-aa61-604165f29be0",
      "cell_type": "code",
      "source": "print(\"Dimensions:\",Harsheen.ndim)\n",
      "metadata": {
        "trusted": true
      },
      "outputs": [
        {
          "name": "stdout",
          "output_type": "stream",
          "text": "Dimensions: 1\n"
        }
      ],
      "execution_count": 5
    },
    {
      "id": "50d86c60-5ed3-450f-abe5-09ee9cc10afd",
      "cell_type": "code",
      "source": "print(\"Shape:\",Harsheen.shape)",
      "metadata": {
        "trusted": true
      },
      "outputs": [
        {
          "name": "stdout",
          "output_type": "stream",
          "text": "Shape: (25,)\n"
        }
      ],
      "execution_count": 6
    },
    {
      "id": "d7ea0efa-1a96-4ccb-97e7-901f1462c83b",
      "cell_type": "code",
      "source": "print(\"Total Elements:\",Harsheen.size)",
      "metadata": {
        "trusted": true
      },
      "outputs": [
        {
          "name": "stdout",
          "output_type": "stream",
          "text": "Total Elements: 25\n"
        }
      ],
      "execution_count": 7
    },
    {
      "id": "d9d960f4-3501-45f8-99c1-7efddedde903",
      "cell_type": "code",
      "source": "print(\"Data Type:\",Harsheen.dtype)",
      "metadata": {
        "trusted": true
      },
      "outputs": [
        {
          "name": "stdout",
          "output_type": "stream",
          "text": "Data Type: float64\n"
        }
      ],
      "execution_count": 8
    },
    {
      "id": "14e77ded-d2f8-402e-9cf6-5dfba0d42169",
      "cell_type": "code",
      "source": "print(\"Total Bytes Consumed:\",Harsheen.nbytes)",
      "metadata": {
        "trusted": true
      },
      "outputs": [
        {
          "name": "stdout",
          "output_type": "stream",
          "text": "Total Bytes Consumed: 200\n"
        }
      ],
      "execution_count": 9
    },
    {
      "id": "3de0998a-cce0-4edc-b0ba-8bae6977dc7c",
      "cell_type": "code",
      "source": "transpose=Harsheen.reshape(25,1)\nprint(\"Transpose:\",transpose)",
      "metadata": {
        "trusted": true
      },
      "outputs": [
        {
          "name": "stdout",
          "output_type": "stream",
          "text": "Transpose: [[ 10.  ]\n [ 13.75]\n [ 17.5 ]\n [ 21.25]\n [ 25.  ]\n [ 28.75]\n [ 32.5 ]\n [ 36.25]\n [ 40.  ]\n [ 43.75]\n [ 47.5 ]\n [ 51.25]\n [ 55.  ]\n [ 58.75]\n [ 62.5 ]\n [ 66.25]\n [ 70.  ]\n [ 73.75]\n [ 77.5 ]\n [ 81.25]\n [ 85.  ]\n [ 88.75]\n [ 92.5 ]\n [ 96.25]\n [100.  ]]\n"
        }
      ],
      "execution_count": 10
    },
    {
      "id": "24f43b92-59d0-43ae-8823-8e8a82d8625b",
      "cell_type": "code",
      "source": "transpose_T=Harsheen.T\nprint(\"Transpose_T:\",transpose_T)",
      "metadata": {
        "trusted": true
      },
      "outputs": [
        {
          "name": "stdout",
          "output_type": "stream",
          "text": "Transpose_T: [ 10.    13.75  17.5   21.25  25.    28.75  32.5   36.25  40.    43.75\n  47.5   51.25  55.    58.75  62.5   66.25  70.    73.75  77.5   81.25\n  85.    88.75  92.5   96.25 100.  ]\n"
        }
      ],
      "execution_count": 14
    },
    {
      "id": "07f39e75-fcbd-4e7f-aeae-a7582766e396",
      "cell_type": "code",
      "source": "print(\"Shape after .T:\",transpose_T.shape)",
      "metadata": {
        "trusted": true
      },
      "outputs": [
        {
          "name": "stdout",
          "output_type": "stream",
          "text": "Shape after .T: (25,)\n"
        }
      ],
      "execution_count": 12
    },
    {
      "id": "61785c46-fd39-4ce9-bd83-85215cae5217",
      "cell_type": "code",
      "source": "#5\nimport numpy as np\nucs420_harsheen = np.array([[10,20,30,40],[50,60,70,80],[90,15,20,35]])",
      "metadata": {
        "trusted": true
      },
      "outputs": [],
      "execution_count": 15
    },
    {
      "id": "b256599f-03d0-4d3c-a033-ad2203772dc1",
      "cell_type": "code",
      "source": "print(\"Mean:\",np.mean(ucs420_harsheen))",
      "metadata": {
        "trusted": true
      },
      "outputs": [
        {
          "name": "stdout",
          "output_type": "stream",
          "text": "Mean: 43.333333333333336\n"
        }
      ],
      "execution_count": 16
    },
    {
      "id": "652d8409-25f1-43fe-a095-048c017d12be",
      "cell_type": "code",
      "source": "print(\"Median:\",np.median(ucs420_harsheen))",
      "metadata": {
        "trusted": true
      },
      "outputs": [
        {
          "name": "stdout",
          "output_type": "stream",
          "text": "Median: 37.5\n"
        }
      ],
      "execution_count": 17
    },
    {
      "id": "dd99f103-0da2-4389-a76a-92e22ed182ac",
      "cell_type": "code",
      "source": "print(\"Max:\",np.max(ucs420_harsheen))",
      "metadata": {
        "trusted": true
      },
      "outputs": [
        {
          "name": "stdout",
          "output_type": "stream",
          "text": "Max: 90\n"
        }
      ],
      "execution_count": 18
    },
    {
      "id": "23edde94-3580-4a97-9ee9-41556584ee0d",
      "cell_type": "code",
      "source": "print(\"Min:\",np.min(ucs420_harsheen))",
      "metadata": {
        "trusted": true
      },
      "outputs": [
        {
          "name": "stdout",
          "output_type": "stream",
          "text": "Min: 10\n"
        }
      ],
      "execution_count": 19
    },
    {
      "id": "8a3f8543-43ec-4fad-8c5a-67eed8b4660d",
      "cell_type": "code",
      "source": "print(\"Unique Elements:\",np.unique(ucs420_harsheen))",
      "metadata": {
        "trusted": true
      },
      "outputs": [
        {
          "name": "stdout",
          "output_type": "stream",
          "text": "Unique Elements: [10 15 20 30 35 40 50 60 70 80 90]\n"
        }
      ],
      "execution_count": 20
    },
    {
      "id": "90df3662-b7ea-4dc8-a041-cbf285433475",
      "cell_type": "code",
      "source": "reshaped_ucs420_harsheen=ucs420_harsheen.reshape(4,3)\nprint(\"Reshaped array:\",reshaped_ucs420_harsheen)",
      "metadata": {
        "trusted": true
      },
      "outputs": [
        {
          "name": "stdout",
          "output_type": "stream",
          "text": "Reshaped array: [[10 20 30]\n [40 50 60]\n [70 80 90]\n [15 20 35]]\n"
        }
      ],
      "execution_count": 21
    },
    {
      "id": "472d9f32-6cb1-4ffc-af0d-1f6a218e58fb",
      "cell_type": "code",
      "source": "resized_ucs420_harsheen=np.resize(ucs420_harsheen,(2,3))\nprint(\"Resized array:\",resized_ucs420_harsheen)",
      "metadata": {
        "trusted": true
      },
      "outputs": [
        {
          "name": "stdout",
          "output_type": "stream",
          "text": "Resized array: [[10 20 30]\n [40 50 60]]\n"
        }
      ],
      "execution_count": 22
    },
    {
      "id": "c955f438-d41c-4cd6-952d-af026a2cd10f",
      "cell_type": "code",
      "source": "#2(b)\nimport numpy as np\nx = np.array([1, 2, 3, 4, 5, 1, 2, 1, 1, 1])\ny = np.array([1, 1, 1, 2, 3, 4, 2, 4, 3, 3])\n\ndef most_frequent(arr):\n    unique , counts = np.unique(arr,return_counts=True)\n    max_count=np.max(counts)\n    most_frequent_value = unique[np.argmax(counts)]\n    indices = np.where(arr == most_frequent_value)[0]\n\n    return most_frequent_value, indices\n\nmost_freq_x, indices_x = most_frequent(x)\nprint(\"\\nMost frequent value in x:\", most_freq_x)\nprint(\"Indices in x:\", indices_x)\n\nmost_freq_y, indices_y = most_frequent(y)\nprint(\"\\nMost frequent value in y:\", most_freq_y)\nprint(\"Indices in y:\", indices_y)\n",
      "metadata": {
        "trusted": true
      },
      "outputs": [
        {
          "name": "stdout",
          "output_type": "stream",
          "text": "\n 1st frequent value in x:\nIndices in x: [0 5 7 8 9]\n\n 1st frequent value in y:\nIndices in y: [0 1 2]\n"
        }
      ],
      "execution_count": 26
    },
    {
      "id": "9bbf8222-2424-4f84-ab5c-4dd1be1c2449",
      "cell_type": "code",
      "source": "",
      "metadata": {
        "trusted": true
      },
      "outputs": [],
      "execution_count": null
    }
  ]
}