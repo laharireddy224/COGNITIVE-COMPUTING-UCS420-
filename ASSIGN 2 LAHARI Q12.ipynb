{
 "cells": [
  {
   "cell_type": "code",
   "execution_count": 1,
   "id": "c63cc45c-da34-4ecd-a006-9d9c88388256",
   "metadata": {},
   "outputs": [
    {
     "name": "stdout",
     "output_type": "stream",
     "text": [
      "[10, 20, 30, 40, 50, 60, 70, 80]\n",
      "[20, 30, 50, 60, 70, 80]\n"
     ]
    }
   ],
   "source": [
    "my_list=[10,20,30,40,50,60,70,80]\n",
    "print(my_list)\n",
    "del my_list[0]\n",
    "del my_list[2]\n",
    "print(my_list) #after deleting"
   ]
  },
  {
   "cell_type": "code",
   "execution_count": 2,
   "id": "63dd7524-ba8b-4aae-a3a6-6b6a4ed16258",
   "metadata": {},
   "outputs": [
    {
     "name": "stdout",
     "output_type": "stream",
     "text": [
      "[10, 20, 30, 40, 50, 60, 70, 80]\n",
      "[10, 20, 30, 40, 50, 60, 70, 80, '200', '300']\n"
     ]
    }
   ],
   "source": [
    "my_list=[10,20,30,40,50,60,70,80]\n",
    "print(my_list)\n",
    "my_list.append('200')\n",
    "my_list.append('300')\n",
    "print(my_list)"
   ]
  },
  {
   "cell_type": "code",
   "execution_count": 3,
   "id": "ecc84105-d778-486a-9163-c8529ec9dc07",
   "metadata": {},
   "outputs": [
    {
     "name": "stdout",
     "output_type": "stream",
     "text": [
      "[10, 20, 30, 40, 50, 60, 70, 80]\n",
      "[10, 20, 30, 40, 50, 60, 70, 80]\n"
     ]
    }
   ],
   "source": [
    "my_list=[10,20,30,40,50,60,70,80]\n",
    "print(my_list)\n",
    "my_list.sort()\n",
    "print(my_list)"
   ]
  },
  {
   "cell_type": "code",
   "execution_count": 4,
   "id": "d7e1e748-16bb-4ea7-99de-83545945b90c",
   "metadata": {},
   "outputs": [
    {
     "name": "stdout",
     "output_type": "stream",
     "text": [
      "[10, 20, 30, 40, 50, 60, 70, 80]\n",
      "[80, 70, 60, 50, 40, 30, 20, 10]\n"
     ]
    }
   ],
   "source": [
    "my_list=[10,20,30,40,50,60,70,80]\n",
    "print(my_list)\n",
    "my_list.reverse()\n",
    "print(my_list)"
   ]
  },
  {
   "cell_type": "code",
   "execution_count": 9,
   "id": "8126a139-4183-4ec5-8b89-fa7b0393616c",
   "metadata": {},
   "outputs": [
    {
     "name": "stdout",
     "output_type": "stream",
     "text": [
      "(45, 89.5, 76, 45.4, 89, 92, 58, 45)\n",
      "92.0\n"
     ]
    }
   ],
   "source": [
    "marks=(45,89.5,76,45.4,89,92,58,45)\n",
    "print(marks)\n",
    "print(float(max(marks)))"
   ]
  },
  {
   "cell_type": "code",
   "execution_count": null,
   "id": "feab035c-33e3-4c33-b6b7-ed451f960377",
   "metadata": {},
   "outputs": [],
   "source": []
  },
  {
   "cell_type": "code",
   "execution_count": 4,
   "id": "31cc0be4-f958-427e-83bb-d58aed89d6bf",
   "metadata": {},
   "outputs": [
    {
     "name": "stdout",
     "output_type": "stream",
     "text": [
      "45.0\n",
      "2\n"
     ]
    }
   ],
   "source": [
    "marks=(45,89.5,76,45.4,89,92,58,45)\n",
    "mini=(float(min(marks)))\n",
    "print(mini)\n",
    "print(marks.count(mini))"
   ]
  },
  {
   "cell_type": "code",
   "execution_count": 4,
   "id": "53d402c1-6582-4bd8-a9ed-b4474ec84131",
   "metadata": {},
   "outputs": [
    {
     "name": "stdout",
     "output_type": "stream",
     "text": [
      "(45, 58, 92, 89, 45.4, 76, 89.5, 45)\n",
      "list[45, 89.5, 76, 45.4, 89, 92, 58, 45]\n"
     ]
    }
   ],
   "source": [
    "marks=(45,89.5,76,45.4,89,92,58,45)\n",
    "print(marks[::-1])\n",
    "print(list[marks])"
   ]
  },
  {
   "cell_type": "code",
   "execution_count": 6,
   "id": "ca823b16-1750-4844-ba8c-9bf8c16c2ce2",
   "metadata": {},
   "outputs": [
    {
     "name": "stdout",
     "output_type": "stream",
     "text": [
      "The score target is present at index index.\n"
     ]
    }
   ],
   "source": [
    "scores = (45, 67, 89, 76, 54, 76)\n",
    "target = 76\n",
    "if target in scores:\n",
    "    index = scores.index(target)\n",
    "    print(\"The score target is present at index index.\")\n",
    "else:\n",
    "    print(\"The score target is not present in the tuple.\")\n"
   ]
  },
  {
   "cell_type": "code",
   "execution_count": 22,
   "id": "7f16236b-9528-4dfb-828e-e687a79ed468",
   "metadata": {},
   "outputs": [
    {
     "name": "stdout",
     "output_type": "stream",
     "text": [
      "List of random numbers: [190, 738, 373, 872, 403, 646, 756, 238, 873, 236, 698, 536, 587, 271, 152, 714, 709, 822, 569, 205, 457, 459, 637, 690, 476, 889, 367, 795, 660, 415, 749, 502, 832, 393, 728, 800, 840, 892, 293, 710, 603, 696, 192, 123, 373, 616, 261, 373, 216, 841, 531, 453, 847, 299, 888, 856, 179, 496, 539, 666, 726, 702, 730, 674, 355, 795, 650, 322, 418, 137, 149, 550, 840, 319, 182, 648, 571, 451, 412, 560, 814, 301, 847, 401, 261, 607, 285, 699, 777, 331, 728, 165, 393, 810, 808, 592, 613, 276, 402, 249]\n",
      "\n",
      "Count of odd numbers: 50\n",
      "Odd numbers: [373, 403, 873, 587, 271, 709, 569, 205, 457, 459, 637, 889, 367, 795, 415, 749, 393, 293, 603, 123, 373, 261, 373, 841, 531, 453, 847, 299, 179, 539, 355, 795, 137, 149, 319, 571, 451, 301, 847, 401, 261, 607, 285, 699, 777, 331, 165, 393, 613, 249]\n",
      "\n",
      "Count of even numbers: 50\n",
      "Even numbers: [190, 738, 872, 646, 756, 238, 236, 698, 536, 152, 714, 822, 690, 476, 660, 502, 832, 728, 800, 840, 892, 710, 696, 192, 616, 216, 888, 856, 496, 666, 726, 702, 730, 674, 650, 322, 418, 550, 840, 182, 648, 412, 560, 814, 728, 810, 808, 592, 276, 402]\n",
      "\n",
      "Count of prime numbers: 18\n",
      "Prime numbers: [373, 587, 271, 709, 569, 457, 367, 293, 373, 373, 179, 137, 149, 571, 401, 607, 331, 613]\n"
     ]
    }
   ],
   "source": [
    "import random\n",
    "def is_prime(num):\n",
    "    if num < 2:\n",
    "        return False\n",
    "    for i in range(2, int(num**0.5) + 1):\n",
    "        if num % i == 0:\n",
    "            return False\n",
    "    return True\n",
    "random_numbers = [random.randint(100, 900) for _ in range(100)]\n",
    "odd_numbers = [num for num in random_numbers if num % 2 != 0]\n",
    "even_numbers = [num for num in random_numbers if num % 2 == 0]\n",
    "prime_numbers = [num for num in random_numbers if is_prime(num)]\n",
    "print(\"List of random numbers:\", random_numbers)\n",
    "print(\"\\nCount of odd numbers:\", len(odd_numbers))\n",
    "print(\"Odd numbers:\", odd_numbers)\n",
    "print(\"\\nCount of even numbers:\", len(even_numbers))\n",
    "print(\"Even numbers:\", even_numbers)\n",
    "print(\"\\nCount of prime numbers:\", len(prime_numbers))\n",
    "print(\"Prime numbers:\", prime_numbers)\n"
   ]
  },
  {
   "cell_type": "code",
   "execution_count": 6,
   "id": "a33c6fcc-2560-4817-ac5c-966b0a368ef2",
   "metadata": {},
   "outputs": [
    {
     "name": "stdout",
     "output_type": "stream",
     "text": [
      "Unique scores achieved by both teams (Union of sets): {34, 45, 78, 23, 56, 90}\n"
     ]
    }
   ],
   "source": [
    "A = {34, 56, 78, 90}\n",
    "B = {78, 45, 90, 23}\n",
    "unique_scores = A.union(B)\n",
    "print(\"Unique scores achieved by both teams (Union of sets):\", unique_scores)"
   ]
  },
  {
   "cell_type": "code",
   "execution_count": 8,
   "id": "d96e5424-ef7d-450f-8d27-2aa6f823cfff",
   "metadata": {},
   "outputs": [
    {
     "name": "stdout",
     "output_type": "stream",
     "text": [
      "Unique scores achieved by both teams (Union of sets): {90, 78}\n"
     ]
    }
   ],
   "source": [
    "A = {34, 56, 78, 90}\n",
    "B = {78, 45, 90, 23}\n",
    "common = A.intersection(B)\n",
    "print(\"Unique scores achieved by both teams (Union of sets):\", common)"
   ]
  },
  {
   "cell_type": "code",
   "execution_count": 10,
   "id": "2d52fb3a-5cc7-4d3a-9de7-ba389011cdd1",
   "metadata": {},
   "outputs": [
    {
     "name": "stdout",
     "output_type": "stream",
     "text": [
      "Unique scores achieved by both teams (Union of sets): {56, 34}\n"
     ]
    }
   ],
   "source": [
    "A = {34, 56, 78, 90}\n",
    "B = {78, 45, 90, 23}\n",
    "exclusive = A-(A.intersection(B))\n",
    "print(\"Unique scores achieved by both teams (Union of sets):\", exclusive)"
   ]
  },
  {
   "cell_type": "code",
   "execution_count": 12,
   "id": "caa4c6a6-17bd-4782-a9b1-53b50ef2097b",
   "metadata": {},
   "outputs": [
    {
     "name": "stdout",
     "output_type": "stream",
     "text": [
      "Are the scores of team A a subset of team B? False\n",
      "Are the scores of team B a superset of team A? False\n"
     ]
    }
   ],
   "source": [
    "A = {34, 56, 78, 90}\n",
    "B = {78, 45, 90, 23}\n",
    "is_subset = A.issubset(B)\n",
    "is_superset = B.issuperset(A)\n",
    "print(\"Are the scores of team A a subset of team B?\", is_subset)\n",
    "print(\"Are the scores of team B a superset of team A?\", is_superset)\n"
   ]
  },
  {
   "cell_type": "code",
   "execution_count": 14,
   "id": "d6456d23-6dc1-42ec-8207-de66701cb5f1",
   "metadata": {},
   "outputs": [
    {
     "name": "stdin",
     "output_type": "stream",
     "text": [
      "Enter the score to remove:  56\n"
     ]
    },
    {
     "name": "stdout",
     "output_type": "stream",
     "text": [
      "Score {X} removed from set A.\n",
      "Updated set A: {34, 90, 78}\n"
     ]
    }
   ],
   "source": [
    "A = {34, 56, 78, 90}\n",
    "X = int(input(\"Enter the score to remove: \"))\n",
    "if X in A:\n",
    "    A.remove(X)\n",
    "    print(\"Score {X} removed from set A.\")\n",
    "else:\n",
    "    print(\"Score {X} is not present in set A.\")\n",
    "print(\"Updated set A:\", A)\n"
   ]
  },
  {
   "cell_type": "code",
   "execution_count": 18,
   "id": "16c5fdc8-b1f9-493b-b117-2cf61548c2be",
   "metadata": {},
   "outputs": [
    {
     "name": "stdin",
     "output_type": "stream",
     "text": [
      "Enter the city name to rename:  chandigarh\n",
      "Enter the new name for the city:  patiala\n"
     ]
    },
    {
     "name": "stdout",
     "output_type": "stream",
     "text": [
      "Renamed '{old_city}' to '{new_city}' successfully.\n",
      "Updated dictionary: {'hyderabad': 'telangana', 'Paris': 'France', 'patiala': 'punjab'}\n"
     ]
    }
   ],
   "source": [
    "locations = {\n",
    "    \"hyderabad\": \"telangana\",\n",
    "    \"chandigarh\": \"punjab\",\n",
    "    \"Paris\": \"France\",\n",
    "}\n",
    "old_city = input(\"Enter the city name to rename: \")\n",
    "new_city = input(\"Enter the new name for the city: \")\n",
    "if old_city in locations:\n",
    "    locations[new_city] = locations.pop(old_city)\n",
    "    print(\"Renamed '{old_city}' to '{new_city}' successfully.\")\n",
    "else:\n",
    "    print(\"City '{old_city}' not found in the dictionary.\")\n",
    "print(\"Updated dictionary:\", locations)\n"
   ]
  },
  {
   "cell_type": "code",
   "execution_count": null,
   "id": "206d9828-25d5-407d-a1c1-080902e00ea5",
   "metadata": {},
   "outputs": [],
   "source": []
  }
 ],
 "metadata": {
  "kernelspec": {
   "display_name": "Python [conda env:base] *",
   "language": "python",
   "name": "conda-base-py"
  },
  "language_info": {
   "codemirror_mode": {
    "name": "ipython",
    "version": 3
   },
   "file_extension": ".py",
   "mimetype": "text/x-python",
   "name": "python",
   "nbconvert_exporter": "python",
   "pygments_lexer": "ipython3",
   "version": "3.12.7"
  }
 },
 "nbformat": 4,
 "nbformat_minor": 5
}
