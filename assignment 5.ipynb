{
 "cells": [
  {
   "cell_type": "code",
   "execution_count": 1,
   "id": "7c9dc44a-ef52-44e9-82ae-ee2366180d4c",
   "metadata": {},
   "outputs": [],
   "source": [
    "import numpy as np"
   ]
  },
  {
   "cell_type": "code",
   "execution_count": 3,
   "id": "7a06a212-69e4-41c0-8760-39ca212c0da5",
   "metadata": {},
   "outputs": [
    {
     "name": "stdout",
     "output_type": "stream",
     "text": [
      "Sum of all elements: 45\n",
      "Sum of all elements row-wise:\n",
      " [[14]\n",
      " [16]\n",
      " [15]]\n",
      "Sum of all elements column-wise:\n",
      " [[20  9 16]]\n"
     ]
    }
   ],
   "source": [
    "#1\n",
    "# Define the matrix\n",
    "gfg = np.matrix('[4, 1, 9; 12, 3, 1; 4, 5, 6]')\n",
    "\n",
    "# i. Sum of all elements\n",
    "total_sum = np.sum(gfg)\n",
    "\n",
    "# ii. Sum of all elements row-wise\n",
    "row_wise_sum = np.sum(gfg, axis=1)\n",
    "\n",
    "# iii. Sum of all elements column-wise\n",
    "column_wise_sum = np.sum(gfg, axis=0)\n",
    "\n",
    "# Printing results\n",
    "print(\"Sum of all elements:\", total_sum)\n",
    "print(\"Sum of all elements row-wise:\\n\", row_wise_sum)\n",
    "print(\"Sum of all elements column-wise:\\n\", column_wise_sum)\n"
   ]
  },
  {
   "cell_type": "code",
   "execution_count": 5,
   "id": "afbde875-aeb5-4c3d-b4c0-7c614476e539",
   "metadata": {},
   "outputs": [
    {
     "name": "stdout",
     "output_type": "stream",
     "text": [
      "Sorted array: [ 10  16  16  52  54  62 453]\n",
      "Indices of sorted array: [0 3 4 1 5 2 6]\n",
      "4 smallest elements: [10 16 16 52]\n",
      "5 largest elements: [ 16  52  54  62 453]\n"
     ]
    }
   ],
   "source": [
    "#2(a)\n",
    "# Define the array\n",
    "array = np.array([10, 52, 62, 16, 16, 54, 453])\n",
    "\n",
    "# i. Sorted array\n",
    "sorted_array = np.sort(array)\n",
    "\n",
    "# ii. Indices of the sorted array\n",
    "sorted_indices = np.argsort(array)\n",
    "\n",
    "# iii. 4 smallest elements\n",
    "smallest_elements = np.sort(array)[:4]\n",
    "\n",
    "# iv. 5 largest elements\n",
    "largest_elements = np.sort(array)[-5:]\n",
    "\n",
    "# Printing results\n",
    "print(\"Sorted array:\", sorted_array)\n",
    "print(\"Indices of sorted array:\", sorted_indices)\n",
    "print(\"4 smallest elements:\", smallest_elements)\n",
    "print(\"5 largest elements:\", largest_elements)\n"
   ]
  },
  {
   "cell_type": "code",
   "execution_count": 7,
   "id": "54ccfbb4-c064-4db5-80d6-42b5695d2cb2",
   "metadata": {},
   "outputs": [
    {
     "name": "stdout",
     "output_type": "stream",
     "text": [
      "Integer elements only: [1. 2. 3. 2.]\n",
      "Float elements only: [1.2 2.2]\n"
     ]
    }
   ],
   "source": [
    "#2(b)\n",
    "# Define the array\n",
    "array = np.array([1.0, 1.2, 2.2, 2.0, 3.0, 2.0])\n",
    "\n",
    "# i. Integer elements only (Check if the element is equal to its integer conversion)\n",
    "integer_elements = array[array == array.astype(int)]\n",
    "\n",
    "# ii. Float elements only (Check if the element is not equal to its integer conversion)\n",
    "float_elements = array[array != array.astype(int)]\n",
    "\n",
    "# Printing results\n",
    "print(\"Integer elements only:\", integer_elements)\n",
    "print(\"Float elements only:\", float_elements)\n"
   ]
  },
  {
   "cell_type": "code",
   "execution_count": 9,
   "id": "3d573de7-72ae-4cb7-baf8-765dcbafa20e",
   "metadata": {},
   "outputs": [
    {
     "name": "stdout",
     "output_type": "stream",
     "text": [
      "ASCII sum (X): 131\n",
      "Sales dataset: [131 181 231 281 331]\n"
     ]
    }
   ],
   "source": [
    "#3(a)\n",
    "# Define initials (Replace with your own initials)\n",
    "initials = \"A B\"  # Change this to your actual initials\n",
    "\n",
    "# Calculate X as the sum of ASCII values of initials\n",
    "X = sum(ord(ch) for ch in initials if ch.isalpha())\n",
    "\n",
    "# Create the sales dataset\n",
    "sales = np.array([X, X + 50, X + 100, X + 150, X + 200])\n",
    "\n",
    "# Print the results\n",
    "print(\"ASCII sum (X):\", X)\n",
    "print(\"Sales dataset:\", sales)\n"
   ]
  },
  {
   "cell_type": "code",
   "execution_count": 11,
   "id": "e4e93be9-7ec0-453c-8d65-90908a870165",
   "metadata": {},
   "outputs": [
    {
     "name": "stdout",
     "output_type": "stream",
     "text": [
      "ASCII sum (X): 131\n",
      "Personalized tax rate: 0.06\n",
      "Sales dataset: [131 181 231 281 331]\n",
      "Tax applied on sales: [ 7.86 10.86 13.86 16.86 19.86]\n"
     ]
    }
   ],
   "source": [
    "#3(b)\n",
    "# Define initials (Replace with your own initials)\n",
    "initials = \"A B\"  # Change this to your actual initials\n",
    "\n",
    "# Calculate X as the sum of ASCII values of initials\n",
    "X = sum(ord(ch) for ch in initials if ch.isalpha())\n",
    "\n",
    "# Compute the personalized tax rate\n",
    "tax_rate = ((X % 5) + 5) / 100\n",
    "\n",
    "# Create the sales dataset\n",
    "sales = np.array([X, X + 50, X + 100, X + 150, X + 200])\n",
    "\n",
    "# Apply tax rate using broadcasting\n",
    "tax_applied_sales = sales * tax_rate\n",
    "\n",
    "# Print results\n",
    "print(\"ASCII sum (X):\", X)\n",
    "print(\"Personalized tax rate:\", tax_rate)\n",
    "print(\"Sales dataset:\", sales)\n",
    "print(\"Tax applied on sales:\", tax_applied_sales)\n"
   ]
  },
  {
   "cell_type": "code",
   "execution_count": 13,
   "id": "56ac279f-8640-47fc-a2b7-ac0f70287579",
   "metadata": {},
   "outputs": [
    {
     "name": "stdout",
     "output_type": "stream",
     "text": [
      "ASCII sum (X): 131\n",
      "Original Sales dataset: [131 181 231 281 331]\n",
      "Discounted Sales dataset: [124.45 171.95 207.9  252.9  297.9 ]\n"
     ]
    }
   ],
   "source": [
    "#3(c)\n",
    "# Define initials (Replace with your own initials)\n",
    "initials = \"A B\"  # Change this to your actual initials\n",
    "\n",
    "# Calculate X as the sum of ASCII values of initials\n",
    "X = sum(ord(ch) for ch in initials if ch.isalpha())\n",
    "\n",
    "# Create the sales dataset\n",
    "sales = np.array([X, X + 50, X + 100, X + 150, X + 200])\n",
    "\n",
    "# Apply discount using vectorized operations\n",
    "discounted_sales = np.where(sales < X + 100, sales * 0.95, sales * 0.90)\n",
    "\n",
    "# Print results\n",
    "print(\"ASCII sum (X):\", X)\n",
    "print(\"Original Sales dataset:\", sales)\n",
    "print(\"Discounted Sales dataset:\", discounted_sales)\n"
   ]
  },
  {
   "cell_type": "code",
   "execution_count": 15,
   "id": "d26a8c69-68a9-42e3-93c4-eac71ab62d91",
   "metadata": {},
   "outputs": [
    {
     "name": "stdout",
     "output_type": "stream",
     "text": [
      "ASCII sum (X): 131\n",
      "Original Sales Matrix:\n",
      " [[131 181 231 281 331]\n",
      " [131 181 231 281 331]\n",
      " [131 181 231 281 331]]\n",
      "Adjusted Sales Matrix (after 2% increase per week):\n",
      " [[131.   181.   231.   281.   331.  ]\n",
      " [133.62 184.62 235.62 286.62 337.62]\n",
      " [136.24 188.24 240.24 292.24 344.24]]\n"
     ]
    }
   ],
   "source": [
    "#3(d)\n",
    "# Define initials (Replace with your own initials)\n",
    "initials = \"A B\"  # Change this to your actual initials\n",
    "\n",
    "# Calculate X as the sum of ASCII values of initials\n",
    "X = sum(ord(ch) for ch in initials if ch.isalpha())\n",
    "\n",
    "# Create the sales dataset (1 row)\n",
    "sales = np.array([X, X + 50, X + 100, X + 150, X + 200])\n",
    "\n",
    "# Expand sales data for 3 weeks (3x5 matrix)\n",
    "sales_weeks = np.vstack([sales] * 3)  # Stack sales 3 times\n",
    "\n",
    "# Generate the weekly increase factors [1.00, 1.02, 1.04] (row-wise broadcasting)\n",
    "week_multipliers = np.array([1.00, 1.02, 1.04]).reshape(3, 1)\n",
    "\n",
    "# Apply the weekly increase\n",
    "adjusted_sales = sales_weeks * week_multipliers\n",
    "\n",
    "# Print results\n",
    "print(\"ASCII sum (X):\", X)\n",
    "print(\"Original Sales Matrix:\\n\", sales_weeks)\n",
    "print(\"Adjusted Sales Matrix (after 2% increase per week):\\n\", adjusted_sales)\n"
   ]
  },
  {
   "cell_type": "code",
   "execution_count": 17,
   "id": "e67448d8-d9f3-4fb4-a3e2-ea6148b32ba7",
   "metadata": {},
   "outputs": [
    {
     "data": {
      "image/png": "[encoded data removed]",
      "text/plain": [
       "<Figure size 800x500 with 1 Axes>"
      ]
     },
     "metadata": {},
     "output_type": "display_data"
    }
   ],
   "source": [
    "#4\n",
    "import numpy as np\n",
    "import matplotlib.pyplot as plt\n",
    "\n",
    "# Generate x values from -10 to 10 (100 points)\n",
    "x = np.linspace(-10, 10, 100)\n",
    "\n",
    "# Compute y values for given functions\n",
    "Y1 = x ** 2  # x^2\n",
    "Y2 = np.sin(x)  # sin(x)\n",
    "Y3 = np.exp(x)  # e^x\n",
    "Y4 = np.log(np.abs(x) + 1)  # log(|x| + 1)\n",
    "\n",
    "# Plot the chosen function (example: Y1 = x^2)\n",
    "plt.figure(figsize=(8, 5))\n",
    "plt.plot(x, Y1, label=r\"$Y = x^2$\", color='b')\n",
    "\n",
    "# Add title, labels, and grid\n",
    "plt.title(\"Plot of Y = x²\", fontsize=14)\n",
    "plt.xlabel(\"X values\", fontsize=12)\n",
    "plt.ylabel(\"Y values\", fontsize=12)\n",
    "plt.legend()\n",
    "plt.grid(True)\n",
    "\n",
    "# Show plot\n",
    "plt.show()\n"
   ]
  },
  {
   "cell_type": "code",
   "execution_count": null,
   "id": "2afffa3d-e6bc-46e1-ab05-8249b9644d14",
   "metadata": {},
   "outputs": [],
   "source": []
  }
 ],
 "metadata": {
  "kernelspec": {
   "display_name": "Python [conda env:base] *",
   "language": "python",
   "name": "conda-base-py"
  },
  "language_info": {
   "codemirror_mode": {
    "name": "ipython",
    "version": 3
   },
   "file_extension": ".py",
   "mimetype": "text/x-python",
   "name": "python",
   "nbconvert_exporter": "python",
   "pygments_lexer": "ipython3",
   "version": "3.12.7"
  }
 },
 "nbformat": 4,
 "nbformat_minor": 5
}
